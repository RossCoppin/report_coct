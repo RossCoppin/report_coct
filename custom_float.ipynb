{
 "cells": [
  {
   "cell_type": "code",
   "execution_count": null,
   "metadata": {},
   "outputs": [],
   "source": [
    "# The passive floating kelp individual will be treated as an Argo Float in this approach\n",
    "# The script for Agro floats has behaviour of sinking, and sinking rates which can be adpated later\n",
    "# but also samples environmental data that can be used as input for the \"growth/ecklonia\" model"
   ]
  },
  {
   "cell_type": "code",
   "execution_count": null,
   "metadata": {},
   "outputs": [],
   "source": [
    "# First load in the needed modules which come standard with the MiniConda3 download"
   ]
  },
  {
   "cell_type": "code",
   "execution_count": null,
   "metadata": {},
   "outputs": [],
   "source": [
    "%matplotlib inline\n",
    "from parcels import FieldSet, ParticleSet, JITParticle, AdvectionRK4, plotTrajectoriesFile, ErrorCode, Variable\n",
    "from datetime import timedelta, datetime\n",
    "import numpy as np"
   ]
  },
  {
   "cell_type": "code",
   "execution_count": null,
   "metadata": {},
   "outputs": [],
   "source": [
    "# Then instatiate a FieldSet with the velocity field data from GlobCurrent dataset."
   ]
  },
  {
   "cell_type": "code",
   "execution_count": null,
   "metadata": {},
   "outputs": [],
   "source": [
    "filenames = {'U': \"GlobCurrent_example_data/20*.nc\", # Define the names of the files containing zonal (U) and meridional (V) velocities\n",
    "             'V': \"GlobCurrent_example_data/20*.nc\"} # The filenames can be the same for U and V\n",
    "variables = {'U': 'eastward_eulerian_current_velocity',\n",
    "             'V': 'northward_eulerian_current_velocity'}\n",
    "dimensions = {'lat': 'lat',\n",
    "              'lon': 'lon',\n",
    "              'time': 'time'}\n",
    "fieldset = FieldSet.from_netcdf(filenames, variables, dimensions)\n",
    "#fieldset.mindepth = fieldset.U.depth[0]  # uppermost layer in the hydrodynamic data"
   ]
  },
  {
   "cell_type": "code",
   "execution_count": null,
   "metadata": {},
   "outputs": [],
   "source": [
    "class KelpParticle(JITParticle):\n",
    "    drag = Variable('drag', dtype=np.int32, initial=1)\n",
    "\n",
    "def KelpVel(particle, fieldset, time):\n",
    "    value = fieldset.U[time, particle.lon, particle.lat, particle.depth]\n",
    "    particle.lon += U*drag*particle.dt"
   ]
  },
  {
   "cell_type": "code",
   "execution_count": null,
   "metadata": {},
   "outputs": [],
   "source": [
    "# Initiate a ParticleSet composed of JITParticles"
   ]
  },
  {
   "cell_type": "code",
   "execution_count": null,
   "metadata": {},
   "outputs": [],
   "source": [
    "# Execute the simulation"
   ]
  },
  {
   "cell_type": "code",
   "execution_count": null,
   "metadata": {},
   "outputs": [],
   "source": [
    "# Initiate one Argo float in the Agulhas Current\n",
    "pset = ParticleSet(fieldset=fieldset, pclass=KelpParticle, lon=[18], lat=[-34], depth=[0],time=datetime(2002, 1, 1))\n",
    "\n",
    "# combine Argo vertical movement kernel with built-in Advection kernel\n",
    "kernels = pset.Kernel(AdvectionRK4) + (KelpVel)\n",
    "\n",
    "# Create a ParticleFile object to store the output\n",
    "output_file = pset.ParticleFile(name=\"custom_float\", outputdt=timedelta(minutes=30))\n",
    "\n",
    "# Now execute the kernels for 30 days, saving data every 30 minutes\n",
    "pset.execute(kernels, runtime=timedelta(days=7), dt=timedelta(minutes=30), output_file=output_file)"
   ]
  },
  {
   "cell_type": "code",
   "execution_count": null,
   "metadata": {},
   "outputs": [],
   "source": [
    "# Visualise simulation using plotParticles script. Particles can be plotted on top of velocity fields \n",
    "# using the tracerfile, tracerfield, ect keywords"
   ]
  },
  {
   "cell_type": "code",
   "execution_count": null,
   "metadata": {},
   "outputs": [],
   "source": [
    "output_file.export()\n",
    "plotTrajectoriesFile('custom_float.nc',\n",
    "                     tracerfile='parcels_examples/GlobCurrent_example_data/20020101000000-GLOBCURRENT-L4-CUReul_hs-ALT_SUM-v02.0-fv01.0.nc',\n",
    "                     tracerlon='lon',\n",
    "                     tracerlat='lat',\n",
    "                     tracerfield='eastward_eulerian_current_velocity')"
   ]
  },
  {
   "cell_type": "code",
   "execution_count": null,
   "metadata": {},
   "outputs": [],
   "source": [
    "# Obtaining data from float"
   ]
  },
  {
   "cell_type": "code",
   "execution_count": null,
   "metadata": {},
   "outputs": [],
   "source": [
    "%matplotlib inline\n",
    "import netCDF4\n",
    "from mpl_toolkits.mplot3d import Axes3D\n",
    "import matplotlib.pyplot as plt\n",
    "output_file.export()  # export the trajectory data to a netcdf file\n",
    "\n",
    "nc = netCDF4.Dataset(\"custom_float.nc\")\n",
    "x = nc.variables[\"lon\"][:].squeeze()\n",
    "y = nc.variables[\"lat\"][:].squeeze()\n",
    "z = nc.variables[\"z\"][:].squeeze()\n",
    "nc.close()\n",
    "\n",
    "# Visualise output\n",
    "\n",
    "fig = plt.figure(figsize=(13,10))\n",
    "ax = plt.axes(projection='3d')\n",
    "cb = ax.scatter(x, y, z, c=z, s=20, marker=\"o\")\n",
    "ax.set_xlabel(\"Longitude\")\n",
    "ax.set_ylabel(\"Latitude\")\n",
    "ax.set_zlabel(\"Depth (m)\")\n",
    "ax.set_zlim(np.max(z),0)\n",
    "plt.show()\n"
   ]
  },
  {
   "cell_type": "code",
   "execution_count": null,
   "metadata": {},
   "outputs": [],
   "source": [
    "# Save the output file\n",
    "# Trajectory of particle set for 10 days using 4th order Runge-Kutta scheme\n",
    "# Trajectories are plotted over Eastward eulerian current velocity"
   ]
  },
  {
   "cell_type": "code",
   "execution_count": null,
   "metadata": {},
   "outputs": [],
   "source": [
    "pset.show(field = 'vector', savefile='kelp_float')"
   ]
  },
  {
   "cell_type": "code",
   "execution_count": null,
   "metadata": {},
   "outputs": [],
   "source": [
    "# Visualise trajectory by means of animation"
   ]
  },
  {
   "cell_type": "code",
   "execution_count": null,
   "metadata": {},
   "outputs": [],
   "source": [
    "plotTrajectoriesFile('kelp_float.nc', mode='movie2d_notebook')"
   ]
  },
  {
   "cell_type": "code",
   "execution_count": null,
   "metadata": {},
   "outputs": [],
   "source": []
  }
 ],
 "metadata": {
  "kernelspec": {
   "display_name": "Python 3",
   "language": "python",
   "name": "python3"
  },
  "language_info": {
   "codemirror_mode": {
    "name": "ipython",
    "version": 3
   },
   "file_extension": ".py",
   "mimetype": "text/x-python",
   "name": "python",
   "nbconvert_exporter": "python",
   "pygments_lexer": "ipython3",
   "version": "3.6.7"
  }
 },
 "nbformat": 4,
 "nbformat_minor": 4
}
